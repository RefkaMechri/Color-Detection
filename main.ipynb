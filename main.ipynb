{
 "cells": [
  {
   "cell_type": "code",
   "execution_count": 1,
   "id": "3f994360-a2a2-4db9-a2d7-f023428fb562",
   "metadata": {},
   "outputs": [],
   "source": [
    "import cv2\n",
    "from PIL import Image\n",
    "from utill import get_limits"
   ]
  },
  {
   "cell_type": "code",
   "execution_count": null,
   "id": "b201cb55-f52b-40c0-8766-de6eb3600767",
   "metadata": {},
   "outputs": [],
   "source": [
    "yellow = [0, 255, 255]  # yellow in BGR colorspace\n",
    "cap = cv2.VideoCapture(0)\n",
    "while True:\n",
    "    ret, frame = cap.read()\n",
    "\n",
    "    hsvImage = cv2.cvtColor(frame, cv2.COLOR_BGR2HSV)\n",
    "\n",
    "    lowerLimit, upperLimit = get_limits(color=yellow)\n",
    "\n",
    "    mask = cv2.inRange(hsvImage, lowerLimit, upperLimit)\n",
    "\n",
    "    mask_ = Image.fromarray(mask)\n",
    "\n",
    "    bbox = mask_.getbbox()\n",
    "\n",
    "    if bbox is not None:\n",
    "        x1, y1, x2, y2 = bbox\n",
    "\n",
    "        frame = cv2.rectangle(frame, (x1, y1), (x2, y2), (0, 255, 0), 5)\n",
    "\n",
    "    cv2.imshow('frame', frame)\n",
    "\n",
    "    if cv2.waitKey(1) & 0xFF == ord('q'):\n",
    "        break\n",
    "\n",
    "cap.release()\n",
    "\n",
    "cv2.destroyAllWindows()"
   ]
  },
  {
   "cell_type": "code",
   "execution_count": null,
   "id": "79c4f037-0d69-4f23-862c-bc6b4343389e",
   "metadata": {},
   "outputs": [],
   "source": []
  },
  {
   "cell_type": "code",
   "execution_count": null,
   "id": "56907d52-89d2-4fa6-9e9d-39d75c832130",
   "metadata": {},
   "outputs": [],
   "source": []
  },
  {
   "cell_type": "code",
   "execution_count": null,
   "id": "b86db603-5984-4359-8ee9-853bafbfbcc8",
   "metadata": {},
   "outputs": [],
   "source": []
  }
 ],
 "metadata": {
  "kernelspec": {
   "display_name": "Python 3 (ipykernel)",
   "language": "python",
   "name": "python3"
  },
  "language_info": {
   "codemirror_mode": {
    "name": "ipython",
    "version": 3
   },
   "file_extension": ".py",
   "mimetype": "text/x-python",
   "name": "python",
   "nbconvert_exporter": "python",
   "pygments_lexer": "ipython3",
   "version": "3.11.9"
  }
 },
 "nbformat": 4,
 "nbformat_minor": 5
}
