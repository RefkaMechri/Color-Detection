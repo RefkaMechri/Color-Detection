{
 "cells": [
  {
   "cell_type": "code",
   "execution_count": 1,
   "id": "14a5227b-1154-4810-9520-bc8a5ae7656b",
   "metadata": {},
   "outputs": [],
   "source": [
    "import numpy as np\n",
    "import cv2"
   ]
  },
  {
   "cell_type": "code",
   "execution_count": 2,
   "id": "634ccf6d-4775-490c-9a76-3f2b266735a3",
   "metadata": {},
   "outputs": [],
   "source": [
    "def get_limits(color):\n",
    "    c=np.uint8([[color]])\n",
    "    hsvC=cv2.cvtColor(c,cv2.COLOR_BGR2HSV)\n",
    "    \n",
    "    lowerLimit=hsvC[0][0][0]-10, 100, 100\n",
    "    upperLimit=hsvC[0][0][0]+10, 255, 255\n",
    "    \n",
    "    lowerLimit=np.array(lowerLimit,dtype=np.uint8)\n",
    "    upperLimit=np.array(upperLimit,dtype=np.uint8)\n",
    "\n",
    "    return lowerLimit,upperLimit \n",
    "\n",
    "    "
   ]
  }
 ],
 "metadata": {
  "kernelspec": {
   "display_name": "Python 3 (ipykernel)",
   "language": "python",
   "name": "python3"
  },
  "language_info": {
   "codemirror_mode": {
    "name": "ipython",
    "version": 3
   },
   "file_extension": ".py",
   "mimetype": "text/x-python",
   "name": "python",
   "nbconvert_exporter": "python",
   "pygments_lexer": "ipython3",
   "version": "3.11.9"
  }
 },
 "nbformat": 4,
 "nbformat_minor": 5
}
